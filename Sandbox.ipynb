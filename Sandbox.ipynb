{
 "cells": [
  {
   "cell_type": "code",
   "execution_count": 6,
   "id": "201b1a88",
   "metadata": {},
   "outputs": [],
   "source": [
    "import os\n",
    "import ultralytics\n",
    "from ultralytics import YOLO\n",
    "import numpy\n",
    "import numpy as np\n",
    "import tifffile\n",
    "from PIL import Image, ImageOps\n",
    "from tqdm import tqdm"
   ]
  },
  {
   "cell_type": "code",
   "execution_count": 7,
   "id": "ef085efc",
   "metadata": {},
   "outputs": [],
   "source": [
    "model = YOLO(\"best_model_checkpoint_Feb25.pt\")\n"
   ]
  },
  {
   "cell_type": "code",
   "execution_count": 8,
   "id": "23ac60c1",
   "metadata": {},
   "outputs": [],
   "source": [
    "if not os.path.exists(\"output\"):\n",
    "   os.makedirs(\"output\")"
   ]
  },
  {
   "cell_type": "code",
   "execution_count": 9,
   "id": "4a7bbe27",
   "metadata": {},
   "outputs": [],
   "source": [
    "def create_output_folders(image_name):\n",
    "    if not os.path.exists(\"output/\" + image_name):\n",
    "        os.makedirs(image_name)\n",
    "\n",
    "    if not os.path.exists(\"output/\" + image_name + \"/Good\"):\n",
    "        os.makedirs(\"output/\" + image_name + \"/Good\")\n",
    "\n",
    "    if not os.path.exists(\"output/\" + image_name + \"/Dense\"):\n",
    "        os.makedirs(\"output/\" + image_name + \"/Dense\")\n",
    "\n",
    "    if not os.path.exists(\"output/\" + image_name + \"/Sparse\"):\n",
    "        os.makedirs(\"output/\" + image_name + \"/Sparse\")"
   ]
  },
  {
   "cell_type": "code",
   "execution_count": 10,
   "id": "74a45cbb",
   "metadata": {},
   "outputs": [],
   "source": [
    "def save_to_folder(results, cropped_image_name, image_name):\n",
    "    print(results.pred[0])\n",
    "    print(max(results.pred[0]))"
   ]
  },
  {
   "cell_type": "code",
   "execution_count": 14,
   "id": "4aa113fe",
   "metadata": {},
   "outputs": [],
   "source": [
    "cropped_image = Image.open(\"data/good.jpg\")\n",
    "cropped_image.show()"
   ]
  },
  {
   "cell_type": "code",
   "execution_count": 15,
   "id": "c317c761",
   "metadata": {},
   "outputs": [],
   "source": [
    "grayscaled_image = ImageOps.grayscale(cropped_image)"
   ]
  },
  {
   "cell_type": "code",
   "execution_count": 21,
   "id": "3fb2c037",
   "metadata": {},
   "outputs": [
    {
     "name": "stdout",
     "output_type": "stream",
     "text": [
      "[tensor([0.45048, 0.31935, 0.23017])]\n"
     ]
    }
   ],
   "source": [
    "results = model(cropped_image)\n",
    "print(results)"
   ]
  },
  {
   "cell_type": "code",
   "execution_count": 33,
   "id": "c703df6c",
   "metadata": {},
   "outputs": [
    {
     "name": "stdout",
     "output_type": "stream",
     "text": [
      "[tensor([0.45048, 0.31935, 0.23017])]\n"
     ]
    },
    {
     "ename": "TypeError",
     "evalue": "'>' not supported between instances of 'Results' and 'Results'",
     "output_type": "error",
     "traceback": [
      "\u001b[0;31m---------------------------------------------------------------------------\u001b[0m",
      "\u001b[0;31mTypeError\u001b[0m                                 Traceback (most recent call last)",
      "Cell \u001b[0;32mIn[33], line 5\u001b[0m\n\u001b[1;32m      2\u001b[0m     \u001b[38;5;28mprint\u001b[39m(results)\n\u001b[1;32m      3\u001b[0m     \u001b[38;5;28mprint\u001b[39m(\u001b[38;5;28mmax\u001b[39m(results[\u001b[38;5;241m0\u001b[39m]))\n\u001b[0;32m----> 5\u001b[0m \u001b[43msave_to_folder\u001b[49m\u001b[43m(\u001b[49m\u001b[43mresults\u001b[49m\u001b[43m,\u001b[49m\u001b[43m \u001b[49m\u001b[43mcropped_image\u001b[49m\u001b[43m,\u001b[49m\u001b[43m \u001b[49m\u001b[38;5;124;43m\"\u001b[39;49m\u001b[38;5;124;43mcropped_image_name\u001b[39;49m\u001b[38;5;124;43m\"\u001b[39;49m\u001b[43m)\u001b[49m\n",
      "Cell \u001b[0;32mIn[33], line 3\u001b[0m, in \u001b[0;36msave_to_folder\u001b[0;34m(results, cropped_image_name, image_name)\u001b[0m\n\u001b[1;32m      1\u001b[0m \u001b[38;5;28;01mdef\u001b[39;00m \u001b[38;5;21msave_to_folder\u001b[39m(results, cropped_image_name, image_name):\n\u001b[1;32m      2\u001b[0m     \u001b[38;5;28mprint\u001b[39m(results)\n\u001b[0;32m----> 3\u001b[0m     \u001b[38;5;28mprint\u001b[39m(\u001b[38;5;28;43mmax\u001b[39;49m\u001b[43m(\u001b[49m\u001b[43mresults\u001b[49m\u001b[43m[\u001b[49m\u001b[38;5;241;43m0\u001b[39;49m\u001b[43m]\u001b[49m\u001b[43m)\u001b[49m)\n",
      "\u001b[0;31mTypeError\u001b[0m: '>' not supported between instances of 'Results' and 'Results'"
     ]
    }
   ],
   "source": [
    "def save_to_folder(results, cropped_image_name, image_name):\n",
    "    print(results)\n",
    "    print(max(results[0]))\n",
    "    \n",
    "save_to_folder(results, cropped_image, \"cropped_image_name\")"
   ]
  },
  {
   "cell_type": "code",
   "execution_count": 30,
   "id": "c57951b2",
   "metadata": {},
   "outputs": [
    {
     "name": "stdout",
     "output_type": "stream",
     "text": [
      "{0: 'Dense', 1: 'Good', 2: 'Sparse'}\n"
     ]
    }
   ],
   "source": [
    "print(model.names)"
   ]
  },
  {
   "cell_type": "code",
   "execution_count": 59,
   "id": "6668960a",
   "metadata": {},
   "outputs": [
    {
     "name": "stdout",
     "output_type": "stream",
     "text": [
      "[0.45047709345817566, 0.31935203075408936, 0.23017087578773499]\n"
     ]
    }
   ],
   "source": [
    "print(list([float(x) for x in results[0].probs]))"
   ]
  },
  {
   "cell_type": "code",
   "execution_count": 63,
   "id": "5a659863",
   "metadata": {},
   "outputs": [
    {
     "name": "stdout",
     "output_type": "stream",
     "text": [
      "[0.45047709345817566, 0.31935203075408936, 0.23017087578773499]\n"
     ]
    }
   ],
   "source": [
    "parsed_results = list([float(x) for x in results[0].probs])\n",
    "print(parsed_results)"
   ]
  },
  {
   "cell_type": "code",
   "execution_count": 65,
   "id": "4ab9c11c",
   "metadata": {},
   "outputs": [
    {
     "name": "stdout",
     "output_type": "stream",
     "text": [
      "0\n"
     ]
    }
   ],
   "source": [
    "print(np.argmax(parsed_results))"
   ]
  }
 ],
 "metadata": {
  "kernelspec": {
   "display_name": "Python [conda env:smack] *",
   "language": "python",
   "name": "conda-env-smack-py"
  },
  "language_info": {
   "codemirror_mode": {
    "name": "ipython",
    "version": 3
   },
   "file_extension": ".py",
   "mimetype": "text/x-python",
   "name": "python",
   "nbconvert_exporter": "python",
   "pygments_lexer": "ipython3",
   "version": "3.8.15"
  }
 },
 "nbformat": 4,
 "nbformat_minor": 5
}
