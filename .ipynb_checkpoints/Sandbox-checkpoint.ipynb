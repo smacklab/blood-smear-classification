{
 "cells": [
  {
   "cell_type": "code",
   "execution_count": 3,
   "id": "201b1a88",
   "metadata": {},
   "outputs": [],
   "source": [
    "import os\n",
    "import ultralytics\n",
    "from ultralytics import YOLO\n",
    "import numpy\n",
    "import numpy as np\n",
    "import tifffile\n",
    "from PIL import Image, ImageOps\n",
    "from tqdm import tqdm"
   ]
  },
  {
   "cell_type": "code",
   "execution_count": null,
   "id": "8c981011",
   "metadata": {},
   "outputs": [],
   "source": [
    "model = YOLO(\"best_model_checkpoint_Feb25.pt\")\n"
   ]
  },
  {
   "cell_type": "code",
   "execution_count": 4,
   "id": "20434083",
   "metadata": {},
   "outputs": [],
   "source": [
    "if not os.path.exists(\"output\"):\n",
    "   os.makedirs(\"output\")"
   ]
  },
  {
   "cell_type": "code",
   "execution_count": 5,
   "id": "091dd8f7",
   "metadata": {},
   "outputs": [],
   "source": [
    "def create_output_folders(image_name):\n",
    "    if not os.path.exists(\"output/\" + image_name):\n",
    "        os.makedirs(image_name)\n",
    "\n",
    "    if not os.path.exists(\"output/\" + image_name + \"/Good\"):\n",
    "        os.makedirs(\"output/\" + image_name + \"/Good\")\n",
    "\n",
    "    if not os.path.exists(\"output/\" + image_name + \"/Dense\"):\n",
    "        os.makedirs(\"output/\" + image_name + \"/Dense\")\n",
    "\n",
    "    if not os.path.exists(\"output/\" + image_name + \"/Sparse\"):\n",
    "        os.makedirs(\"output/\" + image_name + \"/Sparse\")"
   ]
  },
  {
   "cell_type": "code",
   "execution_count": null,
   "id": "556d9209",
   "metadata": {},
   "outputs": [],
   "source": [
    "def save_to_folder(results, cropped_image_name, image_name):\n",
    "    print(results.pred[0])\n",
    "    print(max(results.pred[0]))"
   ]
  },
  {
   "cell_type": "code",
   "execution_count": null,
   "id": "227450ca",
   "metadata": {},
   "outputs": [],
   "source": [
    "cropped_image = Image(\"data/good.jpg\")"
   ]
  }
 ],
 "metadata": {
  "kernelspec": {
   "display_name": "Python [conda env:smack] *",
   "language": "python",
   "name": "conda-env-smack-py"
  },
  "language_info": {
   "codemirror_mode": {
    "name": "ipython",
    "version": 3
   },
   "file_extension": ".py",
   "mimetype": "text/x-python",
   "name": "python",
   "nbconvert_exporter": "python",
   "pygments_lexer": "ipython3",
   "version": "3.8.15"
  }
 },
 "nbformat": 4,
 "nbformat_minor": 5
}
